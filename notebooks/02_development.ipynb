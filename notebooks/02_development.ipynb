{
 "cells": [
  {
   "cell_type": "markdown",
   "id": "2d1e410a",
   "metadata": {},
   "source": [
    "# 02 WIP: Development"
   ]
  },
  {
   "cell_type": "code",
   "execution_count": null,
   "id": "41fafea3",
   "metadata": {},
   "outputs": [],
   "source": [
    "%load_ext autoreload\n",
    "%autoreload 2"
   ]
  },
  {
   "cell_type": "code",
   "execution_count": null,
   "id": "63c359db",
   "metadata": {},
   "outputs": [],
   "source": [
    "import os\n",
    "import numpy as np\n",
    "import pandas as pd"
   ]
  },
  {
   "cell_type": "code",
   "execution_count": null,
   "id": "1712a7bf",
   "metadata": {},
   "outputs": [],
   "source": [
    "os.chdir(\"..\")\n",
    "os.getcwd()"
   ]
  },
  {
   "cell_type": "code",
   "execution_count": null,
   "id": "09884ab6",
   "metadata": {},
   "outputs": [],
   "source": [
    "from src.gridgpt.template_manager import (\n",
    "    load_templates,\n",
    "    select_template,\n",
    "    print_template_grid,\n",
    "    identify_theme_slots\n",
    ")"
   ]
  },
  {
   "cell_type": "markdown",
   "id": "60ff921d",
   "metadata": {},
   "source": [
    "# 01 Create word database"
   ]
  },
  {
   "cell_type": "markdown",
   "id": "3c5999fc",
   "metadata": {},
   "source": [
    "1. In the terminal, navigate to the root directory of the project: `cd /path/to/gridgpt`\n",
    "2. Activate your virtual environment:\n",
    "\n",
    "   ```bash\n",
    "   source venv/bin/activate  # On macOS/Linux\n",
    "   .\\venv\\Scripts\\activate  # On Windows\n",
    "   ```\n",
    "\n",
    "2. Run the `create_word_db` script to generate the word database. Use the following parameters:\n",
    "- `--min_frequency` to set the minimum frequency of words to include in the database as indicated in the original crossword word database.\n",
    "- `--min_length` to set the minimum number of characters a word can have to be included in the database.\n",
    "- `--max_length` to set the maximum number of characters a word can have to be included in the database.\n",
    "\n",
    "   ```bash\n",
    "   python scripts/create_word_db.py --min-frequency 2 --min-length 3 --max-length 5\n",
    "   ```"
   ]
  },
  {
   "cell_type": "markdown",
   "id": "6050dc99",
   "metadata": {},
   "source": [
    "The following files will be created as a result from running the script: \n",
    "\n",
    "1. [`word_database_all.json`](../data/02_intermediary/word_database/word_database_all.json): A JSON file containing all words and their frequencies from the original crossword word database.\n",
    "2. [`word_database_filtered_with_frequencies.json`](../data/02_intermediary/word_database/word_database_filtered_with_frequencies.json): A JSON file containing words filtered by length and minimum frequency; all words as keys with their respective frequencies included as values in a single dictionary.\n",
    "3. [`word_database_filtered_by_length.json`](../data/02_intermediary/word_database/word_database_filtered_by_length.json): A JSON file containing words filtered by length and minimum frequency; keys are the lengths of the words, and values are lists of words of that length.\n",
    "4. [`word_database_filtered_list.json`](../data/02_intermediary/word_database/word_database_filtered_list.json): A JSON file containing words filtered by length and minimum frequency; stored as a simple list of all words that meet the criteria."
   ]
  },
  {
   "cell_type": "markdown",
   "id": "8434d3cf",
   "metadata": {},
   "source": [
    "# 01 Get template"
   ]
  },
  {
   "cell_type": "code",
   "execution_count": null,
   "id": "963d748d",
   "metadata": {},
   "outputs": [],
   "source": [
    "templates_data = load_templates()\n",
    "templates = templates_data[\"templates\"]\n",
    "\n",
    "for template in templates:\n",
    "    print(f\"{template['name']} (ID: {template['id']}, difficulty: {template['difficulty']})\")"
   ]
  },
  {
   "cell_type": "code",
   "execution_count": null,
   "id": "afc54119",
   "metadata": {},
   "outputs": [],
   "source": [
    "# template = select_template(difficulty=\"easy\")\n",
    "template = select_template(template_id='5x5_basic')"
   ]
  },
  {
   "cell_type": "code",
   "execution_count": null,
   "id": "b540ea12",
   "metadata": {},
   "outputs": [],
   "source": [
    "print_template_grid(template)"
   ]
  },
  {
   "cell_type": "markdown",
   "id": "bb2fa3ea",
   "metadata": {},
   "source": [
    "# Crossword Generator"
   ]
  },
  {
   "cell_type": "code",
   "execution_count": null,
   "id": "44bf531c",
   "metadata": {},
   "outputs": [],
   "source": [
    "from src.gridgpt.crossword_generator import CrosswordGenerator\n",
    "from src.gridgpt.crossword_generator import generate_themed_crossword"
   ]
  },
  {
   "cell_type": "markdown",
   "id": "172bebb4",
   "metadata": {},
   "source": [
    "## Initialize generator"
   ]
  },
  {
   "cell_type": "code",
   "execution_count": null,
   "id": "31a97e73",
   "metadata": {},
   "outputs": [],
   "source": [
    "generator = CrosswordGenerator()"
   ]
  },
  {
   "cell_type": "markdown",
   "id": "21585d24",
   "metadata": {},
   "source": [
    "## Set theme"
   ]
  },
  {
   "cell_type": "code",
   "execution_count": null,
   "id": "f108c511",
   "metadata": {},
   "outputs": [],
   "source": [
    "theme_entry = \"BREWS\""
   ]
  },
  {
   "cell_type": "code",
   "execution_count": null,
   "id": "db97cfe0",
   "metadata": {},
   "outputs": [],
   "source": [
    "generator.validate_theme_entry(theme_entry)"
   ]
  },
  {
   "cell_type": "code",
   "execution_count": null,
   "id": "dca61426",
   "metadata": {},
   "outputs": [],
   "source": [
    "template_with_theme = generator.place_theme_entry(template, theme_entry)\n",
    "template_with_theme"
   ]
  },
  {
   "cell_type": "code",
   "execution_count": null,
   "id": "c7f9db34",
   "metadata": {},
   "outputs": [],
   "source": [
    "crossword = generate_themed_crossword(template, theme_entry)"
   ]
  },
  {
   "cell_type": "code",
   "execution_count": null,
   "id": "2c4c18f4",
   "metadata": {},
   "outputs": [],
   "source": [
    "crossword"
   ]
  },
  {
   "cell_type": "code",
   "execution_count": null,
   "id": "03b45a5b",
   "metadata": {},
   "outputs": [],
   "source": [
    "#!/usr/bin/env python3\n",
    "import argparse\n",
    "import json\n",
    "import logging\n",
    "import os\n",
    "import sys\n",
    "\n",
    "from src.gridgpt.template_manager import load_templates, select_template, print_template_grid\n",
    "from src.gridgpt.crossword_generator import generate_themed_crossword\n",
    "\n",
    "# Set up logging\n",
    "logging.basicConfig(level=logging.INFO, format='%(asctime)s - %(levelname)s - %(message)s')\n",
    "logger = logging.getLogger(__name__)\n",
    "\n",
    "def parse_args():\n",
    "    \"\"\"Parse command-line arguments.\"\"\"\n",
    "    parser = argparse.ArgumentParser(description='Generate a crossword puzzle')\n",
    "    \n",
    "    parser.add_argument(\n",
    "        '--template', \n",
    "        help='ID of template to use (default: random)'\n",
    "    )\n",
    "    \n",
    "    parser.add_argument(\n",
    "        '--theme-entry',\n",
    "        help='Theme entry to include in the crossword'\n",
    "    )\n",
    "    \n",
    "    parser.add_argument(\n",
    "        '--difficulty',\n",
    "        choices=['easy', 'medium', 'hard'],\n",
    "        help='Difficulty level of the crossword'\n",
    "    )\n",
    "    \n",
    "    parser.add_argument(\n",
    "        '--output',\n",
    "        help='Output file to save the crossword (JSON format)'\n",
    "    )\n",
    "    \n",
    "    parser.add_argument(\n",
    "        '--verbose', \n",
    "        '-v', \n",
    "        action='store_true',\n",
    "        help='Enable verbose logging'\n",
    "    )\n",
    "    \n",
    "    return parser.parse_args()\n",
    "\n",
    "def main():\n",
    "    \"\"\"Main function to generate a crossword puzzle.\"\"\"\n",
    "    # Parse command-line arguments\n",
    "    args = parse_args()\n",
    "    \n",
    "    # Set logging level\n",
    "    if args.verbose:\n",
    "        logging.getLogger().setLevel(logging.DEBUG)\n",
    "    \n",
    "    # Load templates\n",
    "    try:\n",
    "        templates_data = load_templates()\n",
    "    except Exception as e:\n",
    "        logger.error(f\"Failed to load templates: {e}\")\n",
    "        sys.exit(1)\n",
    "    \n",
    "    # Select template\n",
    "    try:\n",
    "        template = select_template(templates_data, template_id=args.template, difficulty=args.difficulty)\n",
    "    except Exception as e:\n",
    "        logger.error(f\"Failed to select template: {e}\")\n",
    "        sys.exit(1)\n",
    "    \n",
    "    # Print the selected template\n",
    "    print_template_grid(template)\n",
    "    \n",
    "    # Generate crossword\n",
    "    try:\n",
    "        crossword = generate_themed_crossword(template, args.theme_entry)\n",
    "    except ValueError as e:\n",
    "        logger.error(f\"Failed to generate crossword: {e}\")\n",
    "        sys.exit(1)\n",
    "    \n",
    "    # Save to output file if specified\n",
    "    if args.output:\n",
    "        try:\n",
    "            with open(args.output, 'w', encoding='utf-8') as f:\n",
    "                json.dump(crossword, f, indent=2)\n",
    "            logger.info(f\"Crossword saved to {args.output}\")\n",
    "        except Exception as e:\n",
    "            logger.error(f\"Failed to save crossword: {e}\")\n",
    "    \n",
    "    return 0\n",
    "\n",
    "if __name__ == \"__main__\":\n",
    "    sys.exit(main())"
   ]
  },
  {
   "cell_type": "code",
   "execution_count": null,
   "id": "d43968f3",
   "metadata": {},
   "outputs": [],
   "source": []
  },
  {
   "cell_type": "markdown",
   "id": "a2b1df07",
   "metadata": {},
   "source": [
    "# Generate Clues"
   ]
  },
  {
   "cell_type": "code",
   "execution_count": null,
   "id": "9074a0a8",
   "metadata": {},
   "outputs": [],
   "source": [
    "from src.gridgpt.clue_generator import generate_mixed_clues"
   ]
  },
  {
   "cell_type": "code",
   "execution_count": null,
   "id": "86fcfde9",
   "metadata": {},
   "outputs": [],
   "source": [
    "theme = \"general knowledge\"\n",
    "clues = x(crossword, theme)"
   ]
  },
  {
   "cell_type": "code",
   "execution_count": null,
   "id": "5f5c4952",
   "metadata": {},
   "outputs": [],
   "source": [
    "# Print clues\n",
    "print(\"\\nClues:\")\n",
    "print(\"\\nAcross:\")\n",
    "across_clues = {k: v for k, v in clues.items() if 'A' in k}\n",
    "for slot_id, clue in sorted(across_clues.items()):\n",
    "    word = crossword[\"filled_slots\"][slot_id]\n",
    "    print(f\"{slot_id}: {clue} ({word})\")\n",
    "    \n",
    "print(\"\\nDown:\")\n",
    "down_clues = {k: v for k, v in clues.items() if 'D' in k}\n",
    "for slot_id, clue in sorted(down_clues.items()):\n",
    "    word = crossword[\"filled_slots\"][slot_id]\n",
    "    print(f\"{slot_id}: {clue} ({word})\")"
   ]
  },
  {
   "cell_type": "code",
   "execution_count": null,
   "id": "39f5fb67",
   "metadata": {},
   "outputs": [],
   "source": [
    "clues"
   ]
  },
  {
   "cell_type": "code",
   "execution_count": null,
   "id": "25aea96c",
   "metadata": {},
   "outputs": [],
   "source": [
    "# order keys by slot ID\n",
    "ordered_clues = {k: clues[k] for k in sorted(clues.keys())}\n",
    "ordered_clues"
   ]
  },
  {
   "cell_type": "code",
   "execution_count": null,
   "id": "d3769fa4",
   "metadata": {},
   "outputs": [],
   "source": [
    "crossword['grid']"
   ]
  },
  {
   "cell_type": "code",
   "execution_count": null,
   "id": "266e7b47",
   "metadata": {},
   "outputs": [],
   "source": [
    "clues"
   ]
  },
  {
   "cell_type": "code",
   "execution_count": null,
   "id": "f53ac22e",
   "metadata": {},
   "outputs": [],
   "source": [
    "# TODO: add nyt sample clues, add clue character limits and add nyt clue types (abbr, language, quotes, etc)\n",
    "# TODO: theme manager: input theme -> generate theme entry\n",
    "# TODO: database, add similarity score of theme to words (in addition to frequency) and use that to weigh word choice in addition to frequency"
   ]
  }
 ],
 "metadata": {
  "kernelspec": {
   "display_name": "gridgpt",
   "language": "python",
   "name": "python3"
  },
  "language_info": {
   "codemirror_mode": {
    "name": "ipython",
    "version": 3
   },
   "file_extension": ".py",
   "mimetype": "text/x-python",
   "name": "python",
   "nbconvert_exporter": "python",
   "pygments_lexer": "ipython3",
   "version": "3.10.9"
  }
 },
 "nbformat": 4,
 "nbformat_minor": 5
}

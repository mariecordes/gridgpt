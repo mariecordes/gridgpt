{
 "cells": [
  {
   "cell_type": "markdown",
   "id": "2d1e410a",
   "metadata": {},
   "source": [
    "# 02 WIP: Development"
   ]
  },
  {
   "cell_type": "code",
   "execution_count": null,
   "id": "41fafea3",
   "metadata": {},
   "outputs": [],
   "source": [
    "%load_ext autoreload\n",
    "%autoreload 2"
   ]
  },
  {
   "cell_type": "code",
   "execution_count": null,
   "id": "63c359db",
   "metadata": {},
   "outputs": [],
   "source": [
    "import os\n",
    "import numpy as np\n",
    "import pandas as pd"
   ]
  },
  {
   "cell_type": "code",
   "execution_count": null,
   "id": "1712a7bf",
   "metadata": {},
   "outputs": [],
   "source": [
    "os.chdir(\"..\")\n",
    "os.getcwd()"
   ]
  },
  {
   "cell_type": "code",
   "execution_count": null,
   "id": "09884ab6",
   "metadata": {},
   "outputs": [],
   "source": [
    "from src.gridgpt.template_manager import (\n",
    "    load_templates,\n",
    "    select_template,\n",
    "    print_template_grid,\n",
    "    identify_theme_slots\n",
    ")"
   ]
  },
  {
   "cell_type": "code",
   "execution_count": null,
   "id": "afc54119",
   "metadata": {},
   "outputs": [],
   "source": [
    "template = select_template(difficulty=\"easy\")"
   ]
  },
  {
   "cell_type": "code",
   "execution_count": null,
   "id": "b540ea12",
   "metadata": {},
   "outputs": [],
   "source": [
    "print_template_grid(template)"
   ]
  },
  {
   "cell_type": "code",
   "execution_count": null,
   "id": "0b2732ff",
   "metadata": {},
   "outputs": [],
   "source": [
    "identify_theme_slots(template)"
   ]
  },
  {
   "cell_type": "markdown",
   "id": "bb2fa3ea",
   "metadata": {},
   "source": [
    "# Crossword Generator"
   ]
  },
  {
   "cell_type": "code",
   "execution_count": null,
   "id": "44bf531c",
   "metadata": {},
   "outputs": [],
   "source": [
    "from src.gridgpt.crossword_generator import CrosswordGenerator\n",
    "from src.gridgpt.crossword_generator import generate_themed_crossword"
   ]
  },
  {
   "cell_type": "code",
   "execution_count": null,
   "id": "31a97e73",
   "metadata": {},
   "outputs": [],
   "source": [
    "generator = CrosswordGenerator()"
   ]
  },
  {
   "cell_type": "code",
   "execution_count": null,
   "id": "f108c511",
   "metadata": {},
   "outputs": [],
   "source": [
    "theme_entry = \"BREWS\""
   ]
  },
  {
   "cell_type": "code",
   "execution_count": null,
   "id": "e3c55c0a",
   "metadata": {},
   "outputs": [],
   "source": [
    "templates_data = load_templates()\n",
    "template = select_template(templates_data, difficulty='easy')\n",
    "print_template_grid(template)"
   ]
  },
  {
   "cell_type": "code",
   "execution_count": null,
   "id": "db97cfe0",
   "metadata": {},
   "outputs": [],
   "source": [
    "generator.validate_theme_entry(theme_entry)"
   ]
  },
  {
   "cell_type": "code",
   "execution_count": null,
   "id": "dca61426",
   "metadata": {},
   "outputs": [],
   "source": [
    "template_with_theme = generator.place_theme_entry(template, theme_entry)\n",
    "template_with_theme"
   ]
  },
  {
   "cell_type": "code",
   "execution_count": null,
   "id": "9ba8008b",
   "metadata": {},
   "outputs": [],
   "source": []
  },
  {
   "cell_type": "code",
   "execution_count": null,
   "id": "52f11599",
   "metadata": {},
   "outputs": [],
   "source": []
  },
  {
   "cell_type": "code",
   "execution_count": null,
   "id": "c7f9db34",
   "metadata": {},
   "outputs": [],
   "source": [
    "crossword = generate_themed_crossword(template, \"SUITS\")"
   ]
  },
  {
   "cell_type": "code",
   "execution_count": null,
   "id": "0a5e7092",
   "metadata": {},
   "outputs": [],
   "source": [
    "crossword"
   ]
  },
  {
   "cell_type": "code",
   "execution_count": null,
   "id": "c7c13dab",
   "metadata": {},
   "outputs": [],
   "source": []
  },
  {
   "cell_type": "code",
   "execution_count": null,
   "id": "03b45a5b",
   "metadata": {},
   "outputs": [],
   "source": [
    "#!/usr/bin/env python3\n",
    "import argparse\n",
    "import json\n",
    "import logging\n",
    "import os\n",
    "import sys\n",
    "\n",
    "from src.gridgpt.template_manager import load_templates, select_template, print_template_grid\n",
    "from src.gridgpt.crossword_generator import generate_themed_crossword\n",
    "\n",
    "# Set up logging\n",
    "logging.basicConfig(level=logging.INFO, format='%(asctime)s - %(levelname)s - %(message)s')\n",
    "logger = logging.getLogger(__name__)\n",
    "\n",
    "def parse_args():\n",
    "    \"\"\"Parse command-line arguments.\"\"\"\n",
    "    parser = argparse.ArgumentParser(description='Generate a crossword puzzle')\n",
    "    \n",
    "    parser.add_argument(\n",
    "        '--template', \n",
    "        help='ID of template to use (default: random)'\n",
    "    )\n",
    "    \n",
    "    parser.add_argument(\n",
    "        '--theme-entry',\n",
    "        help='Theme entry to include in the crossword'\n",
    "    )\n",
    "    \n",
    "    parser.add_argument(\n",
    "        '--difficulty',\n",
    "        choices=['easy', 'medium', 'hard'],\n",
    "        help='Difficulty level of the crossword'\n",
    "    )\n",
    "    \n",
    "    parser.add_argument(\n",
    "        '--output',\n",
    "        help='Output file to save the crossword (JSON format)'\n",
    "    )\n",
    "    \n",
    "    parser.add_argument(\n",
    "        '--verbose', \n",
    "        '-v', \n",
    "        action='store_true',\n",
    "        help='Enable verbose logging'\n",
    "    )\n",
    "    \n",
    "    return parser.parse_args()\n",
    "\n",
    "def main():\n",
    "    \"\"\"Main function to generate a crossword puzzle.\"\"\"\n",
    "    # Parse command-line arguments\n",
    "    args = parse_args()\n",
    "    \n",
    "    # Set logging level\n",
    "    if args.verbose:\n",
    "        logging.getLogger().setLevel(logging.DEBUG)\n",
    "    \n",
    "    # Load templates\n",
    "    try:\n",
    "        templates_data = load_templates()\n",
    "    except Exception as e:\n",
    "        logger.error(f\"Failed to load templates: {e}\")\n",
    "        sys.exit(1)\n",
    "    \n",
    "    # Select template\n",
    "    try:\n",
    "        template = select_template(templates_data, template_id=args.template, difficulty=args.difficulty)\n",
    "    except Exception as e:\n",
    "        logger.error(f\"Failed to select template: {e}\")\n",
    "        sys.exit(1)\n",
    "    \n",
    "    # Print the selected template\n",
    "    print_template_grid(template)\n",
    "    \n",
    "    # Generate crossword\n",
    "    try:\n",
    "        crossword = generate_themed_crossword(template, args.theme_entry)\n",
    "    except ValueError as e:\n",
    "        logger.error(f\"Failed to generate crossword: {e}\")\n",
    "        sys.exit(1)\n",
    "    \n",
    "    # Save to output file if specified\n",
    "    if args.output:\n",
    "        try:\n",
    "            with open(args.output, 'w', encoding='utf-8') as f:\n",
    "                json.dump(crossword, f, indent=2)\n",
    "            logger.info(f\"Crossword saved to {args.output}\")\n",
    "        except Exception as e:\n",
    "            logger.error(f\"Failed to save crossword: {e}\")\n",
    "    \n",
    "    return 0\n",
    "\n",
    "if __name__ == \"__main__\":\n",
    "    sys.exit(main())"
   ]
  },
  {
   "cell_type": "code",
   "execution_count": null,
   "id": "d43968f3",
   "metadata": {},
   "outputs": [],
   "source": []
  },
  {
   "cell_type": "markdown",
   "id": "a2b1df07",
   "metadata": {},
   "source": [
    "# Generate Clues"
   ]
  },
  {
   "cell_type": "code",
   "execution_count": null,
   "id": "9074a0a8",
   "metadata": {},
   "outputs": [],
   "source": [
    "from src.gridgpt.clue_generator import generate_mixed_clues"
   ]
  },
  {
   "cell_type": "code",
   "execution_count": null,
   "id": "94e6df26",
   "metadata": {},
   "outputs": [],
   "source": [
    "from dotenv import load_dotenv\n",
    "load_dotenv()  # Load environment variables from .env file"
   ]
  },
  {
   "cell_type": "code",
   "execution_count": null,
   "id": "86fcfde9",
   "metadata": {},
   "outputs": [],
   "source": [
    "theme = \"general knowledge\"\n",
    "clues = generate_mixed_clues(crossword, theme)"
   ]
  },
  {
   "cell_type": "code",
   "execution_count": null,
   "id": "5f5c4952",
   "metadata": {},
   "outputs": [],
   "source": [
    "# Print clues\n",
    "print(\"\\nClues:\")\n",
    "print(\"\\nAcross:\")\n",
    "across_clues = {k: v for k, v in clues.items() if 'A' in k}\n",
    "for slot_id, clue in sorted(across_clues.items()):\n",
    "    word = crossword[\"filled_slots\"][slot_id]\n",
    "    print(f\"{slot_id}: {clue} ({word})\")\n",
    "    \n",
    "print(\"\\nDown:\")\n",
    "down_clues = {k: v for k, v in clues.items() if 'D' in k}\n",
    "for slot_id, clue in sorted(down_clues.items()):\n",
    "    word = crossword[\"filled_slots\"][slot_id]\n",
    "    print(f\"{slot_id}: {clue} ({word})\")"
   ]
  },
  {
   "cell_type": "code",
   "execution_count": null,
   "id": "d3769fa4",
   "metadata": {},
   "outputs": [],
   "source": [
    "crossword['grid']"
   ]
  },
  {
   "cell_type": "code",
   "execution_count": null,
   "id": "f53ac22e",
   "metadata": {},
   "outputs": [],
   "source": [
    "# TODO: add nyt sample clues, add clue character limits and add nyt clue types (abbr, language, quotes, etc)"
   ]
  }
 ],
 "metadata": {
  "kernelspec": {
   "display_name": "gridgpt",
   "language": "python",
   "name": "python3"
  },
  "language_info": {
   "codemirror_mode": {
    "name": "ipython",
    "version": 3
   },
   "file_extension": ".py",
   "mimetype": "text/x-python",
   "name": "python",
   "nbconvert_exporter": "python",
   "pygments_lexer": "ipython3",
   "version": "3.10.9"
  }
 },
 "nbformat": 4,
 "nbformat_minor": 5
}

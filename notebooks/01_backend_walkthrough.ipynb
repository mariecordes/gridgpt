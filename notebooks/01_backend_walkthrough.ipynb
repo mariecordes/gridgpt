{
 "cells": [
  {
   "cell_type": "markdown",
   "id": "2d1e410a",
   "metadata": {},
   "source": [
    "# 01 Backend walkthrough"
   ]
  },
  {
   "cell_type": "code",
   "execution_count": null,
   "id": "41fafea3",
   "metadata": {},
   "outputs": [],
   "source": [
    "%load_ext autoreload\n",
    "%autoreload 2"
   ]
  },
  {
   "cell_type": "code",
   "execution_count": null,
   "id": "63c359db",
   "metadata": {},
   "outputs": [],
   "source": [
    "import os\n",
    "\n",
    "os.chdir(\"..\")\n",
    "os.getcwd()"
   ]
  },
  {
   "cell_type": "code",
   "execution_count": null,
   "id": "09884ab6",
   "metadata": {},
   "outputs": [],
   "source": [
    "from src.gridgpt.utils import load_catalog"
   ]
  },
  {
   "cell_type": "code",
   "execution_count": null,
   "id": "e07d7d3e",
   "metadata": {},
   "outputs": [],
   "source": [
    "catalog = load_catalog()\n",
    "catalog"
   ]
  },
  {
   "cell_type": "markdown",
   "id": "60ff921d",
   "metadata": {},
   "source": [
    "## 1. Set-up word database"
   ]
  },
  {
   "cell_type": "markdown",
   "id": "c76772c1",
   "metadata": {},
   "source": [
    "GridGPT uses a word database built from online crossword sources. Follow these steps to create and maintain the database:\n",
    "\n",
    "1. In the terminal, navigate to the root directory of the project: `cd /path/to/gridgpt` and activate your virtual environment.\n",
    "\n",
    "2. Scrape the source data of NYT's Mini Crosswords from [`worddb.com`](https://worddb.com)\n",
    "\n",
    "    ```bash\n",
    "    python scripts/scrape_worddb.py --start-date 2023-01-01 --end-date 2023-12-31\n",
    "    ```\n",
    "    This creates and updates: `data/01_raw/worddb_com/nyt_mini_clues.json`\n",
    "\n",
    "\n",
    "3. Process the scraped raw data to create the main word database\n",
    "\n",
    "    ```bash\n",
    "    python scripts/create_worddb_database.py\n",
    "    ```\n",
    "    This processes the scraped data and creates: `data/02_intermediary/word_database/word_database_full.json`"
   ]
  },
  {
   "cell_type": "markdown",
   "id": "7911d3cf",
   "metadata": {},
   "source": [
    "## 2. Word database manager"
   ]
  },
  {
   "cell_type": "markdown",
   "id": "f6e35c60",
   "metadata": {},
   "source": [
    "When `WordDatabaseManager()` is initialized, it automatically creates up to date filtered databases relevant for the crossword to be generated:\n",
    "\n",
    "- [`word_database_filtered.json`](../data/02_intermediary/word_database/word_database_filtered.json) - Filtered word-clue pairs\n",
    "- [`word_list_with_frequencies.json`](../data/02_intermediary/word_database/word_list_with_frequencies.json) - Word frequency analysis\n",
    "\n",
    "The filtering process can flexibly:\n",
    "- `min_length` & `max_length` - limit for minimum and maximum number of characters in a word\n",
    "- `min_frequency` - apply a minimum frequency threshold (e.g., words must have been used in a crossword more than 5 times)\n",
    "- `exclude_special_characters` - exclude special characters\n",
    "- `exclude_reference_clues` - remove reference clues (e.g., \"See 15-Across\")"
   ]
  },
  {
   "cell_type": "code",
   "execution_count": null,
   "id": "2de2c565",
   "metadata": {},
   "outputs": [],
   "source": [
    "from src.gridgpt.word_database_manager import WordDatabaseManager"
   ]
  },
  {
   "cell_type": "code",
   "execution_count": null,
   "id": "73db083c",
   "metadata": {},
   "outputs": [],
   "source": [
    "word_db_manager = WordDatabaseManager(\n",
    "    min_frequency=1,\n",
    "    min_length=3,\n",
    "    max_length=5,\n",
    "    exclude_special_chars=True,\n",
    "    exclude_reference_clues=True,\n",
    ")"
   ]
  },
  {
   "cell_type": "code",
   "execution_count": null,
   "id": "ed23353e",
   "metadata": {},
   "outputs": [],
   "source": [
    "# The following data is stored and available in the WordDatabaseManager instance\n",
    "\n",
    "# word_db_manager.word_database_full\n",
    "# word_db_manager.word_database_filtered\n",
    "# word_db_manager.word_list_with_frequencies\n",
    "# word_db_manager.words_by_length\n",
    "\n",
    "print(f\"Number of words in the full word database: {len(word_db_manager.word_database_full)}\")\n",
    "print(f\"Number of words in the filtered word database: {len(word_db_manager.word_database_filtered)}\")\n",
    "print(\n",
    "    f\"Number of words in the word list with frequencies: {len(word_db_manager.word_list_with_frequencies)}\",\n",
    "    f\"\\n  with minimum frequency {min(word_db_manager.word_list_with_frequencies.values())} and maximum frequency {max(word_db_manager.word_list_with_frequencies.values())}.\"\n",
    ")\n",
    "print(f\"Groups of words by length: {list(word_db_manager.words_by_length.keys())}\")"
   ]
  },
  {
   "cell_type": "markdown",
   "id": "c64887fa",
   "metadata": {},
   "source": [
    "## 3. Template manager"
   ]
  },
  {
   "cell_type": "code",
   "execution_count": null,
   "id": "5535bcee",
   "metadata": {},
   "outputs": [],
   "source": [
    "from src.gridgpt.template_manager import (\n",
    "    load_templates,\n",
    "    select_template,\n",
    "    identify_theme_slots,\n",
    "    print_template_grid,\n",
    ")"
   ]
  },
  {
   "cell_type": "code",
   "execution_count": null,
   "id": "49f2888a",
   "metadata": {},
   "outputs": [],
   "source": [
    "templates_data = load_templates()\n",
    "templates = templates_data[\"templates\"]\n",
    "\n",
    "for template in templates:\n",
    "    print(f\"{template['name']} (ID: {template['id']}, difficulty: {template['difficulty']})\")"
   ]
  },
  {
   "cell_type": "code",
   "execution_count": null,
   "id": "65179e2b",
   "metadata": {},
   "outputs": [],
   "source": [
    "template = select_template(template_id='5x5_blocked_corners')"
   ]
  },
  {
   "cell_type": "code",
   "execution_count": null,
   "id": "524701a4",
   "metadata": {},
   "outputs": [],
   "source": [
    "theme_slots = identify_theme_slots(template)"
   ]
  },
  {
   "cell_type": "code",
   "execution_count": null,
   "id": "75d8d70c",
   "metadata": {},
   "outputs": [],
   "source": [
    "print_template_grid(template)"
   ]
  },
  {
   "cell_type": "markdown",
   "id": "a41c9857",
   "metadata": {},
   "source": [
    "## 4. Theme manager"
   ]
  },
  {
   "cell_type": "code",
   "execution_count": null,
   "id": "a1484f11",
   "metadata": {},
   "outputs": [],
   "source": [
    "from src.gridgpt.theme_manager import ThemeManager, generate_theme_entry"
   ]
  },
  {
   "cell_type": "code",
   "execution_count": null,
   "id": "1840bbee",
   "metadata": {},
   "outputs": [],
   "source": [
    "theme = \"music\""
   ]
  },
  {
   "cell_type": "markdown",
   "id": "05a034d6",
   "metadata": {},
   "source": [
    "### All in one"
   ]
  },
  {
   "cell_type": "code",
   "execution_count": null,
   "id": "376546a3",
   "metadata": {},
   "outputs": [],
   "source": [
    "theme_entry = generate_theme_entry(\n",
    "    theme=theme,\n",
    "    min_chars=5,\n",
    "    max_chars=5,\n",
    "    min_frequency=1,\n",
    "    similarity_mode=\"semantic\",\n",
    "    similarity_threshold=0.35,\n",
    "    weigh_similarity=True,\n",
    "    word_db_manager=word_db_manager\n",
    ")\n",
    "theme_entry"
   ]
  },
  {
   "cell_type": "markdown",
   "id": "7f613684",
   "metadata": {},
   "source": [
    "### Step by step"
   ]
  },
  {
   "cell_type": "code",
   "execution_count": null,
   "id": "ba5fa945",
   "metadata": {},
   "outputs": [],
   "source": [
    "theme_manager = ThemeManager(theme, word_db_manager)"
   ]
  },
  {
   "cell_type": "code",
   "execution_count": null,
   "id": "59442301",
   "metadata": {},
   "outputs": [],
   "source": [
    "theme_manager.theme_embedding = theme_manager.embedding_provider.embed([theme])[0]\n",
    "theme_manager.theme_embedding"
   ]
  },
  {
   "cell_type": "code",
   "execution_count": null,
   "id": "4407a092",
   "metadata": {},
   "outputs": [],
   "source": [
    "theme_entries = theme_manager.find_theme_entries(\n",
    "    min_chars=5,\n",
    "    max_chars=5,\n",
    "    min_frequency=1,\n",
    "    similarity_mode=\"semantic\"\n",
    ")"
   ]
  },
  {
   "cell_type": "code",
   "execution_count": null,
   "id": "60a04bab",
   "metadata": {},
   "outputs": [],
   "source": [
    "print(\"\\nTop 20 theme entries by similarity:\")\n",
    "for word, score in theme_entries[:20]:\n",
    "    print(f\"  {word}: {score:.3f}\")"
   ]
  },
  {
   "cell_type": "code",
   "execution_count": null,
   "id": "e7cd1836",
   "metadata": {},
   "outputs": [],
   "source": [
    "# Try running this cell a few times to see which different entries may be chosen\n",
    "selected_theme_entries = theme_manager.choose_theme_entries(\n",
    "    number_of_theme_entries=1, threshold=0.35, weigh_similarity=True\n",
    ")\n",
    "selected_theme_entry = selected_theme_entries[0]\n",
    "selected_theme_entry"
   ]
  },
  {
   "cell_type": "code",
   "execution_count": null,
   "id": "9cb514da",
   "metadata": {},
   "outputs": [],
   "source": [
    "# Test choosing theme entries\n",
    "print()\n",
    "print(\"Choose 1 theme entry with similarity weighting:\")\n",
    "selected = theme_manager.choose_theme_entries(number_of_theme_entries=1, threshold=0.35, weigh_similarity=True)\n",
    "print(f\"Selected: {selected}\")\n",
    "\n",
    "print(\"\\nChoose 3 theme entries with similarity weighting:\")\n",
    "selected_multiple = theme_manager.choose_theme_entries(number_of_theme_entries=3, threshold=0.35, weigh_similarity=True)\n",
    "print(f\"Selected: {selected_multiple}\")\n",
    "\n",
    "print(\"\\nChoose 3 theme entries without similarity weighting (uniform random):\")\n",
    "selected_uniform = theme_manager.choose_theme_entries(number_of_theme_entries=3, threshold=0.35, weigh_similarity=False)\n",
    "print(f\"Selected: {selected_uniform}\")"
   ]
  },
  {
   "cell_type": "code",
   "execution_count": null,
   "id": "7a8d62ef",
   "metadata": {},
   "outputs": [],
   "source": [
    "# Test with different themes\n",
    "themes_to_test = [\"food\", \"space\", \"sports\", \"music\"]\n",
    "\n",
    "for test_theme in themes_to_test:\n",
    "    print(f\"\\n=== Theme: {test_theme} ===\")\n",
    "    test_manager = ThemeManager(test_theme)\n",
    "    entries = test_manager.find_theme_entries(min_chars=4, max_chars=6)\n",
    "    print(f\"Top 5 entries: {[(word, f'{score:.3f}') for word, score in entries[:5]]}\")\n",
    "    selected = test_manager.choose_theme_entries(number_of_theme_entries=2, threshold=0.15)\n",
    "    print(f\"Selected entries: {selected}\")"
   ]
  },
  {
   "cell_type": "markdown",
   "id": "bb2fa3ea",
   "metadata": {},
   "source": [
    "## 5. Crossword Generator"
   ]
  },
  {
   "cell_type": "code",
   "execution_count": null,
   "id": "44bf531c",
   "metadata": {},
   "outputs": [],
   "source": [
    "from src.gridgpt.crossword_generator import CrosswordGenerator, generate_themed_crossword"
   ]
  },
  {
   "cell_type": "markdown",
   "id": "c9e200bb",
   "metadata": {},
   "source": [
    "### All in one"
   ]
  },
  {
   "cell_type": "code",
   "execution_count": null,
   "id": "2d25fb8b",
   "metadata": {},
   "outputs": [],
   "source": [
    "crossword = generate_themed_crossword(\n",
    "    template=template,\n",
    "    theme_entry=theme_entry,\n",
    "    max_attempts=100,\n",
    "    backtracking_max_attempts=100,\n",
    "    word_db_manager=word_db_manager\n",
    ")"
   ]
  },
  {
   "cell_type": "markdown",
   "id": "172bebb4",
   "metadata": {},
   "source": [
    "### Step by step"
   ]
  },
  {
   "cell_type": "code",
   "execution_count": null,
   "id": "31a97e73",
   "metadata": {},
   "outputs": [],
   "source": [
    "generator = CrosswordGenerator(word_db_manager)"
   ]
  },
  {
   "cell_type": "code",
   "execution_count": null,
   "id": "f108c511",
   "metadata": {},
   "outputs": [],
   "source": [
    "print(theme_entry)"
   ]
  },
  {
   "cell_type": "code",
   "execution_count": null,
   "id": "db97cfe0",
   "metadata": {},
   "outputs": [],
   "source": [
    "generator.validate_theme_entry(theme_entry)"
   ]
  },
  {
   "cell_type": "code",
   "execution_count": null,
   "id": "dca61426",
   "metadata": {},
   "outputs": [],
   "source": [
    "template_with_theme = generator.place_theme_entry(template, theme_entry)\n",
    "template_with_theme"
   ]
  },
  {
   "cell_type": "code",
   "execution_count": null,
   "id": "4e34d4d2",
   "metadata": {},
   "outputs": [],
   "source": [
    "backtracking_attempts = 100\n",
    "for attempt in range(backtracking_attempts):\n",
    "    try:\n",
    "        filled_grid = generator.backtracking_fill(template_with_theme, max_attempts=100)\n",
    "        if filled_grid:\n",
    "            print(f\"Successfully filled grid on attempt {attempt + 1}\")\n",
    "            break\n",
    "    except Exception as e:\n",
    "        if attempt == backtracking_attempts - 1:\n",
    "                raise"
   ]
  },
  {
   "cell_type": "code",
   "execution_count": null,
   "id": "c7f9db34",
   "metadata": {},
   "outputs": [],
   "source": [
    "filled_grid[\"grid\"]"
   ]
  },
  {
   "cell_type": "markdown",
   "id": "a2b1df07",
   "metadata": {},
   "source": [
    "## 6. Clue manager"
   ]
  },
  {
   "cell_type": "code",
   "execution_count": null,
   "id": "9074a0a8",
   "metadata": {},
   "outputs": [],
   "source": [
    "from src.gridgpt.clue_manager import ClueRetriever, ClueGenerator"
   ]
  },
  {
   "cell_type": "code",
   "execution_count": null,
   "id": "afbf7da9",
   "metadata": {},
   "outputs": [],
   "source": [
    "print(\"Theme:\", theme)\n",
    "print(\"Grid:\")\n",
    "display(crossword['grid'])"
   ]
  },
  {
   "cell_type": "markdown",
   "id": "00789158",
   "metadata": {},
   "source": [
    "### 6.1 Retrieve clues from database"
   ]
  },
  {
   "cell_type": "code",
   "execution_count": null,
   "id": "4537760d",
   "metadata": {},
   "outputs": [],
   "source": [
    "retriever = ClueRetriever(word_db_manager)"
   ]
  },
  {
   "cell_type": "code",
   "execution_count": null,
   "id": "d397ae26",
   "metadata": {},
   "outputs": [],
   "source": [
    "retrieved_clues = retriever.retrieve_existing_clues(crossword)"
   ]
  },
  {
   "cell_type": "code",
   "execution_count": null,
   "id": "bef9cf01",
   "metadata": {},
   "outputs": [],
   "source": [
    "# Print clues\n",
    "print(\"\\nClues:\")\n",
    "print(\"\\nAcross:\")\n",
    "across_clues = {k: v for k, v in retrieved_clues.items() if 'A' in k}\n",
    "for slot_id, clue in sorted(across_clues.items()):\n",
    "    word = crossword[\"filled_slots\"][slot_id]\n",
    "    print(f\"{slot_id}: {clue} ({word})\")\n",
    "    \n",
    "print(\"\\nDown:\")\n",
    "down_clues = {k: v for k, v in retrieved_clues.items() if 'D' in k}\n",
    "for slot_id, clue in sorted(down_clues.items()):\n",
    "    word = crossword[\"filled_slots\"][slot_id]\n",
    "    print(f\"{slot_id}: {clue} ({word})\")"
   ]
  },
  {
   "cell_type": "code",
   "execution_count": null,
   "id": "6d0c57a3",
   "metadata": {},
   "outputs": [],
   "source": [
    "# Under the hood, retrieve_existing_clues first gets all available \n",
    "# clues for a given word and then randomly selects one\n",
    "example_word = \"AURA\"\n",
    "\n",
    "available_clues = retriever.get_available_clues(example_word)\n",
    "print(\"Available clues:\", available_clues)\n",
    "\n",
    "selected_clue = retriever.select_random_clue(available_clues)\n",
    "print(\"Randomly selected clue:\", selected_clue)"
   ]
  },
  {
   "cell_type": "markdown",
   "id": "8f819947",
   "metadata": {},
   "source": [
    "### 6.2 Generate clues with an LLM"
   ]
  },
  {
   "cell_type": "code",
   "execution_count": null,
   "id": "bd8a48bb",
   "metadata": {},
   "outputs": [],
   "source": [
    "generator = ClueGenerator(word_db_manager=word_db_manager)"
   ]
  },
  {
   "cell_type": "code",
   "execution_count": null,
   "id": "3f26a0e5",
   "metadata": {},
   "outputs": [],
   "source": [
    "# Prompt that is formatted and used for clue generation\n",
    "generator.prompt"
   ]
  },
  {
   "cell_type": "code",
   "execution_count": null,
   "id": "e0097006",
   "metadata": {},
   "outputs": [],
   "source": [
    "generated_clues = generator.generate_clues(crossword, theme)"
   ]
  },
  {
   "cell_type": "code",
   "execution_count": null,
   "id": "5f5c4952",
   "metadata": {},
   "outputs": [],
   "source": [
    "# Print clues\n",
    "print(\"\\nClues:\")\n",
    "print(\"\\nAcross:\")\n",
    "across_clues = {k: v for k, v in generated_clues.items() if 'A' in k}\n",
    "for slot_id, clue in sorted(across_clues.items()):\n",
    "    word = crossword[\"filled_slots\"][slot_id]\n",
    "    print(f\"{slot_id}: {clue} ({word})\")\n",
    "    \n",
    "print(\"\\nDown:\")\n",
    "down_clues = {k: v for k, v in generated_clues.items() if 'D' in k}\n",
    "for slot_id, clue in sorted(down_clues.items()):\n",
    "    word = crossword[\"filled_slots\"][slot_id]\n",
    "    print(f\"{slot_id}: {clue} ({word})\")"
   ]
  },
  {
   "cell_type": "code",
   "execution_count": null,
   "id": "18a5dec6",
   "metadata": {},
   "outputs": [],
   "source": []
  }
 ],
 "metadata": {
  "kernelspec": {
   "display_name": "gridgpt",
   "language": "python",
   "name": "python3"
  },
  "language_info": {
   "codemirror_mode": {
    "name": "ipython",
    "version": 3
   },
   "file_extension": ".py",
   "mimetype": "text/x-python",
   "name": "python",
   "nbconvert_exporter": "python",
   "pygments_lexer": "ipython3",
   "version": "3.10.9"
  }
 },
 "nbformat": 4,
 "nbformat_minor": 5
}

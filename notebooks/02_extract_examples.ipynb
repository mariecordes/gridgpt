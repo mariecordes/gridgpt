{
 "cells": [
  {
   "cell_type": "markdown",
   "id": "2d1e410a",
   "metadata": {},
   "source": [
    "# 02 Extract Examples"
   ]
  },
  {
   "cell_type": "code",
   "execution_count": null,
   "id": "41fafea3",
   "metadata": {},
   "outputs": [],
   "source": [
    "%load_ext autoreload\n",
    "%autoreload 2"
   ]
  },
  {
   "cell_type": "code",
   "execution_count": null,
   "id": "63c359db",
   "metadata": {},
   "outputs": [],
   "source": [
    "import os\n",
    "import numpy as np\n",
    "import pandas as pd"
   ]
  },
  {
   "cell_type": "code",
   "execution_count": null,
   "id": "1712a7bf",
   "metadata": {},
   "outputs": [],
   "source": [
    "os.chdir(\"..\")\n",
    "os.getcwd()"
   ]
  },
  {
   "cell_type": "code",
   "execution_count": null,
   "id": "09884ab6",
   "metadata": {},
   "outputs": [],
   "source": [
    "from src.gridgpt.extract_examples import process_crossword_file"
   ]
  },
  {
   "cell_type": "code",
   "execution_count": null,
   "id": "7dd10946",
   "metadata": {},
   "outputs": [],
   "source": [
    "file_path = \"data/01_raw/example_grids/20230602_mini.html\""
   ]
  },
  {
   "cell_type": "code",
   "execution_count": null,
   "id": "719d08f0",
   "metadata": {},
   "outputs": [],
   "source": [
    "result = process_crossword_file(file_path, return_formatted_output=False)\n",
    "result"
   ]
  },
  {
   "cell_type": "code",
   "execution_count": null,
   "id": "97e1a431",
   "metadata": {},
   "outputs": [],
   "source": [
    "result = process_crossword_file(file_path, return_formatted_output=True)\n",
    "print(result)"
   ]
  },
  {
   "cell_type": "code",
   "execution_count": null,
   "id": "eb29f2c6",
   "metadata": {},
   "outputs": [],
   "source": [
    "result = {'grid': [['#', 'B', 'L', 'T', '#'],\n",
    "  ['Q', 'U', 'A', 'R', 'K'],\n",
    "  ['U', 'N', 'T', 'I', 'L'],\n",
    "  ['O', 'N', 'E', 'P', 'M'],\n",
    "  ['#', 'Y', 'R', 'S', '#']]}"
   ]
  },
  {
   "cell_type": "code",
   "execution_count": null,
   "id": "1fe02c2e",
   "metadata": {},
   "outputs": [],
   "source": [
    "\"\".join(result['grid'][3])"
   ]
  },
  {
   "cell_type": "code",
   "execution_count": null,
   "id": "92505e64",
   "metadata": {},
   "outputs": [],
   "source": [
    "\"\".join(result['grid'][3])"
   ]
  },
  {
   "cell_type": "code",
   "execution_count": null,
   "id": "ab568cc4",
   "metadata": {},
   "outputs": [],
   "source": [
    "for idx in range(len(result['grid'])):\n",
    "    column = []\n",
    "    \n",
    "    for row in result['grid']:\n",
    "        column.append(row[idx])\n",
    "\n",
    "    print(f\"Column {idx+1}: {''.join(column)}\")"
   ]
  },
  {
   "cell_type": "code",
   "execution_count": null,
   "id": "77341bb9",
   "metadata": {},
   "outputs": [],
   "source": [
    "grid = result['across_grid']\n",
    "grid"
   ]
  },
  {
   "cell_type": "code",
   "execution_count": null,
   "id": "107e942a",
   "metadata": {},
   "outputs": [],
   "source": [
    "for idx in range(len(grid)):\n",
    "    print(\"\".join(grid[idx]))"
   ]
  },
  {
   "cell_type": "code",
   "execution_count": null,
   "id": "f0f2335a",
   "metadata": {},
   "outputs": [],
   "source": [
    "for idx in range(len(grid)):\n",
    "    column = []\n",
    "    \n",
    "    for row in grid:\n",
    "        column.append(row[idx])\n",
    "\n",
    "    print(f\"Column {idx+1}: {''.join(column)}\")"
   ]
  }
 ],
 "metadata": {
  "kernelspec": {
   "display_name": "gridgpt",
   "language": "python",
   "name": "python3"
  },
  "language_info": {
   "codemirror_mode": {
    "name": "ipython",
    "version": 3
   },
   "file_extension": ".py",
   "mimetype": "text/x-python",
   "name": "python",
   "nbconvert_exporter": "python",
   "pygments_lexer": "ipython3",
   "version": "3.10.9"
  }
 },
 "nbformat": 4,
 "nbformat_minor": 5
}
